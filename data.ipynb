{
 "cells": [
  {
   "cell_type": "code",
   "execution_count": null,
   "metadata": {},
   "outputs": [],
   "source": [
    "import os\n",
    "from dotenv import load_dotenv\n",
    "\n",
    "load_dotenv()\n",
    "\n",
    "TEAM_NAME = os.getenv(\"TEAM_NAME\")\n",
    "TEAM_TRACK = os.getenv(\"TEAM_TRACK\")\n",
    "HOME = os.getenv(\"HOME\")"
   ]
  },
  {
   "cell_type": "code",
   "execution_count": null,
   "metadata": {},
   "outputs": [],
   "source": [
    "from pathlib import Path\n",
    "import json\n",
    "import pandas as pd\n",
    "import numpy as np"
   ]
  },
  {
   "cell_type": "code",
   "execution_count": null,
   "metadata": {},
   "outputs": [],
   "source": [
    "input_dir = Path(f\"{HOME}/{TEAM_TRACK}\")\n",
    "\n",
    "with open(input_dir / \"nlp.jsonl\", \"r\") as f:\n",
    "    instances = [json.loads(line.strip()) for line in f if line.strip() != \"\"]"
   ]
  },
  {
   "cell_type": "code",
   "execution_count": null,
   "metadata": {},
   "outputs": [],
   "source": [
    "df = pd.DataFrame(instances)\n",
    "df = df.set_index(\"key\")\n",
    "display(df)"
   ]
  },
  {
   "cell_type": "code",
   "execution_count": null,
   "metadata": {},
   "outputs": [],
   "source": [
    "display(df.tool.unique())\n",
    "\n",
    "# Case 1: Prompt model to use exact wording, electromagnetic pulse, EMP, surface-to-air with hyphens\n",
    "# Case 2: Always lower case the tool, unless its an acronym\n",
    "# Anti-case: There is a fixed set of tools"
   ]
  },
  {
   "cell_type": "code",
   "execution_count": null,
   "metadata": {},
   "outputs": [],
   "source": [
    "# fmt: off\n",
    "rm_list = (\n",
    "    \",\", \"and\", \"red\", \"blue\", \"orange\", \"purple\", \"cyan\", \"gray\", \"grey\",\n",
    "    \"brown\", \"yellow\", \"silver\", \"black\", \"green\", \"white\"\n",
    ")\n",
    "# fmr: on"
   ]
  },
  {
   "cell_type": "code",
   "execution_count": null,
   "metadata": {},
   "outputs": [],
   "source": [
    "# Note: From looking at eval code, it is both punctuation & case sensitive.\n",
    "display(len(df.target.unique()))\n",
    "display(df[df.target.str.isupper()])\n",
    "\n",
    "def rm(s):\n",
    "    for r in rm_list:\n",
    "        s = s.replace(r, \"\")\n",
    "    return \" \".join(s.split())\n",
    "\n",
    "targets = np.unique(set(rm(t) for t in df.target.unique()))\n",
    "display(targets)\n",
    "\n",
    "# Case 1: Preserve punctuation\n",
    "# Case 2: Always lower case target\n",
    "# Case 3: Preserve order\n",
    "# Case 4: lmao rainbow target"
   ]
  },
  {
   "cell_type": "code",
   "execution_count": null,
   "metadata": {},
   "outputs": [],
   "source": [
    "display(sorted(df.heading.unique()))\n",
    "\n",
    "# Anti-case: always multiple of five\n",
    "# Anti-case: no 000\n",
    "# Anti-case: always 0 to 360"
   ]
  },
  {
   "cell_type": "code",
   "execution_count": null,
   "metadata": {},
   "outputs": [],
   "source": [
    "df.loc[1].transcript"
   ]
  },
  {
   "cell_type": "code",
   "execution_count": null,
   "metadata": {},
   "outputs": [],
   "source": []
  }
 ],
 "metadata": {
  "kernelspec": {
   "display_name": ".venv",
   "language": "python",
   "name": "python3"
  },
  "language_info": {
   "codemirror_mode": {
    "name": "ipython",
    "version": 3
   },
   "file_extension": ".py",
   "mimetype": "text/x-python",
   "name": "python",
   "nbconvert_exporter": "python",
   "pygments_lexer": "ipython3",
   "version": "3.11.9"
  }
 },
 "nbformat": 4,
 "nbformat_minor": 2
}

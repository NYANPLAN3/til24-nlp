{
 "cells": [
  {
   "cell_type": "code",
   "execution_count": null,
   "metadata": {},
   "outputs": [],
   "source": [
    "import os\n",
    "from dotenv import load_dotenv\n",
    "\n",
    "load_dotenv()\n",
    "\n",
    "TEAM_NAME = os.getenv(\"TEAM_NAME\")\n",
    "TEAM_TRACK = os.getenv(\"TEAM_TRACK\")\n",
    "HOME = os.getenv(\"HOME\")"
   ]
  },
  {
   "cell_type": "code",
   "execution_count": null,
   "metadata": {},
   "outputs": [],
   "source": [
    "from pathlib import Path\n",
    "import json\n",
    "import pandas as pd\n",
    "import numpy as np\n",
    "from word2number.w2n import word_to_num"
   ]
  },
  {
   "cell_type": "code",
   "execution_count": null,
   "metadata": {},
   "outputs": [],
   "source": [
    "input_dir = Path(f\"{HOME}/{TEAM_TRACK}\")\n",
    "\n",
    "with open(input_dir / \"nlp.jsonl\", \"r\") as f:\n",
    "    instances = [json.loads(line.strip()) for line in f if line.strip() != \"\"]"
   ]
  },
  {
   "cell_type": "code",
   "execution_count": null,
   "metadata": {},
   "outputs": [],
   "source": [
    "df = pd.DataFrame(instances)\n",
    "df = df.set_index(\"key\")\n",
    "display(df)"
   ]
  },
  {
   "cell_type": "code",
   "execution_count": null,
   "metadata": {},
   "outputs": [],
   "source": [
    "display(df.tool.unique())\n",
    "\n",
    "# Case 1: Prompt model to use exact wording, electromagnetic pulse, EMP, surface-to-air with hyphens\n",
    "# Case 2: Always lower case the tool, unless its an acronym\n",
    "# Anti-case: There is a fixed set of tools"
   ]
  },
  {
   "cell_type": "code",
   "execution_count": null,
   "metadata": {},
   "outputs": [],
   "source": [
    "tools = df.tool.unique()\n",
    "for tool in tools:\n",
    "    rows = df[df.tool == tool].transcript\n",
    "    for row in rows:\n",
    "        for other in tools:\n",
    "            if tool == other:\n",
    "                continue\n",
    "            if other.lower() in row.lower():\n",
    "                print(\"Real: \", tool, \" | \", row)\n",
    "\n",
    "# Case: always use the first appearance (unless its a bracket)"
   ]
  },
  {
   "cell_type": "code",
   "execution_count": null,
   "metadata": {},
   "outputs": [],
   "source": [
    "a = (\n",
    "    df.transcript.str.lower()\n",
    "    .replace(\"[^a-zA-Z0-9]\", \" \", regex=True)\n",
    "    .str.split()\n",
    "    .explode()\n",
    "    .unique()\n",
    ")\n",
    "b = []\n",
    "\n",
    "for w in a:\n",
    "    if len(w) < 3:\n",
    "        continue\n",
    "    # try:\n",
    "    #    word_to_num(w)\n",
    "    # except:\n",
    "    #    b.append(w)\n",
    "\n",
    "# display(b)\n",
    "\n",
    "df.transcript.str.lower().str.split(\"\").explode().unique()\n",
    "df[df.transcript.str.contains(\"1\")]"
   ]
  },
  {
   "cell_type": "code",
   "execution_count": null,
   "metadata": {},
   "outputs": [],
   "source": [
    "# fmt: off\n",
    "rm_list = (\n",
    "    \",\", \"and\", \"red\", \"blue\", \"orange\", \"purple\", \"cyan\", \"gray\", \"grey\",\n",
    "    \"brown\", \"yellow\", \"silver\", \"black\", \"green\", \"white\", \"camouflage\"\n",
    ")\n",
    "# fmt: on"
   ]
  },
  {
   "cell_type": "code",
   "execution_count": null,
   "metadata": {},
   "outputs": [],
   "source": [
    "# Note: From looking at eval code, it is both punctuation & case sensitive.\n",
    "display(len(df.target.unique()))\n",
    "display(sum(df.target.str.isupper()))\n",
    "\n",
    "\n",
    "def rm(s):\n",
    "    for r in rm_list:\n",
    "        s = s.replace(r, \"\")\n",
    "    return \" \".join(s.split())\n",
    "\n",
    "\n",
    "targets = set(rm(t) for t in df.target.unique())\n",
    "display(targets)\n",
    "\n",
    "df.transcript.str.extractall(r\"\\((.*?)\\)\")\n",
    "\n",
    "# Case 1: Preserve punctuation\n",
    "# Case 2: Always lower case target\n",
    "# Case 3: Preserve order\n",
    "# Case 4: lmao rainbow target\n",
    "# Case 5: Bracketed words"
   ]
  },
  {
   "cell_type": "code",
   "execution_count": null,
   "metadata": {},
   "outputs": [],
   "source": [
    "a = set(df.target.str.replace(\",\", \" \").str.split().explode())\n",
    "b = set(df.target.str.split().str[-2:].str.join(\" \"))\n",
    "display(b)\n",
    "display(a - b - {\"and\"})"
   ]
  },
  {
   "cell_type": "code",
   "execution_count": null,
   "metadata": {},
   "outputs": [],
   "source": [
    "display(sorted(df.heading.unique()))\n",
    "\n",
    "# Anti-case: always multiple of five\n",
    "# Anti-case: no 000\n",
    "# Anti-case: always 0 to 360\n",
    "# Is there negative heading?"
   ]
  },
  {
   "cell_type": "code",
   "execution_count": null,
   "metadata": {},
   "outputs": [],
   "source": [
    "df.loc[1].transcript"
   ]
  },
  {
   "cell_type": "code",
   "execution_count": null,
   "metadata": {},
   "outputs": [],
   "source": []
  }
 ],
 "metadata": {
  "kernelspec": {
   "display_name": ".venv",
   "language": "python",
   "name": "python3"
  },
  "language_info": {
   "codemirror_mode": {
    "name": "ipython",
    "version": 3
   },
   "file_extension": ".py",
   "mimetype": "text/x-python",
   "name": "python",
   "nbconvert_exporter": "python",
   "pygments_lexer": "ipython3",
   "version": "3.11.9"
  }
 },
 "nbformat": 4,
 "nbformat_minor": 2
}
